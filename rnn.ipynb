{
 "cells": [
  {
   "cell_type": "code",
   "execution_count": 234,
   "metadata": {
    "collapsed": false
   },
   "outputs": [],
   "source": [
    "%matplotlib inline\n",
    "import chainer\n",
    "import chainer.functions as F\n",
    "import chainer.links as L\n",
    "import chainer.cuda\n",
    "from chainer import optimizers\n",
    "from chainer import serializers\n",
    "import numpy as np\n",
    "import matplotlib.pyplot as plt"
   ]
  },
  {
   "cell_type": "code",
   "execution_count": 235,
   "metadata": {
    "collapsed": true
   },
   "outputs": [],
   "source": [
    "n_epoch = 50\n",
    "batchsize = 30\n",
    "bprop_len = 1000\n",
    "n_unit = 100\n",
    "grad_clip = 5"
   ]
  },
  {
   "cell_type": "code",
   "execution_count": 236,
   "metadata": {
    "collapsed": true
   },
   "outputs": [],
   "source": [
    "xp = np"
   ]
  },
  {
   "cell_type": "code",
   "execution_count": 241,
   "metadata": {
    "collapsed": false
   },
   "outputs": [
    {
     "data": {
      "text/plain": [
       "[<matplotlib.lines.Line2D at 0x10deafe80>]"
      ]
     },
     "execution_count": 241,
     "metadata": {},
     "output_type": "execute_result"
    },
    {
     "data": {
      "image/png": "[encoded data removed]",
      "text/plain": [
       "<matplotlib.figure.Figure at 0x10de5a6a0>"
      ]
     },
     "metadata": {},
     "output_type": "display_data"
    }
   ],
   "source": [
    "t = np.arange(0,10,0.001, dtype=np.float32)\n",
    "train_data = np.sin(t) * np.cos(30 * t)\n",
    "#train_data = np.sin(t)\n",
    "plt.plot(train_data)"
   ]
  },
  {
   "cell_type": "code",
   "execution_count": 242,
   "metadata": {
    "collapsed": false
   },
   "outputs": [],
   "source": [
    "class RNN(chainer.Chain):\n",
    "    def __init__(self, n_unit):\n",
    "        super(RNN, self).__init__(\n",
    "            l1 = L.Linear(1, n_unit),\n",
    "            l2 = L.LSTM(n_unit, n_unit),\n",
    "            l3 = L.Linear(n_unit, 1)\n",
    "        )\n",
    "    \n",
    "    def __call__(self,x,t):\n",
    "        return F.mean_squared_error(self.predict(x),t)\n",
    "        \n",
    "    def reset_state(self):\n",
    "        self.l2.reset_state()\n",
    "    \n",
    "    def predict(self,x):\n",
    "        h1 = self.l1(x)\n",
    "        h2 = self.l2(h1)\n",
    "        y = self.l3(h2)\n",
    "        return y"
   ]
  },
  {
   "cell_type": "code",
   "execution_count": 243,
   "metadata": {
    "collapsed": false
   },
   "outputs": [
    {
     "name": "stdout",
     "output_type": "stream",
     "text": [
      "epoch 1, accum_loss 0.3958755676597357\n",
      "epoch 2, accum_loss 1.1617116271972656\n",
      "epoch 3, accum_loss 1.9272998504638672\n",
      "epoch 4, accum_loss 0.22028624819926917\n",
      "epoch 5, accum_loss 0.6382507652282715\n",
      "epoch 6, accum_loss 1.0626548301696777\n",
      "epoch 7, accum_loss 0.1549214046880603\n",
      "epoch 8, accum_loss 0.44439045095443724\n",
      "epoch 9, accum_loss 0.741803927230835\n",
      "epoch 10, accum_loss 0.12905708449538797\n",
      "epoch 11, accum_loss 0.36445862965583803\n",
      "epoch 12, accum_loss 0.6078610210418701\n",
      "epoch 13, accum_loss 0.11647789408117533\n",
      "epoch 14, accum_loss 0.32571711049079893\n",
      "epoch 15, accum_loss 0.5433882284164429\n",
      "epoch 16, accum_loss 0.10987832357790321\n",
      "epoch 17, accum_loss 0.30525872855186464\n",
      "epoch 18, accum_loss 0.5107620307922364\n",
      "epoch 19, accum_loss 0.10707511432096362\n",
      "epoch 20, accum_loss 0.2948204142570496\n",
      "epoch 21, accum_loss 0.49367374029159544\n",
      "epoch 22, accum_loss 0.1061860053503886\n",
      "epoch 23, accum_loss 0.28867635698318483\n",
      "epoch 24, accum_loss 0.48342173595428467\n",
      "epoch 25, accum_loss 0.10637720697354525\n",
      "epoch 26, accum_loss 0.28497100009918214\n",
      "epoch 27, accum_loss 0.47791420154571534\n",
      "epoch 28, accum_loss 0.1064624487541616\n",
      "epoch 29, accum_loss 0.28266347918510437\n",
      "epoch 30, accum_loss 0.4745715838432312\n",
      "epoch 31, accum_loss 0.10725575764421373\n",
      "epoch 32, accum_loss 0.2811655782222748\n",
      "epoch 33, accum_loss 0.4723555995941162\n",
      "epoch 34, accum_loss 0.10838743914179504\n",
      "epoch 35, accum_loss 0.279997265625\n",
      "epoch 36, accum_loss 0.4703051826477051\n",
      "epoch 37, accum_loss 0.10892144864108413\n",
      "epoch 38, accum_loss 0.27869034585952757\n",
      "epoch 39, accum_loss 0.46924838438034056\n",
      "epoch 40, accum_loss 0.11102902402244508\n",
      "epoch 41, accum_loss 0.2792267509937286\n",
      "epoch 42, accum_loss 0.46967123241424563\n",
      "epoch 43, accum_loss 0.11212094351630658\n",
      "epoch 44, accum_loss 0.2782754032611847\n",
      "epoch 45, accum_loss 0.46818932371139527\n",
      "epoch 46, accum_loss 0.1125901283422485\n",
      "epoch 47, accum_loss 0.2768713695526123\n",
      "epoch 48, accum_loss 0.46714673709869386\n",
      "epoch 49, accum_loss 0.11351403082376346\n",
      "epoch 50, accum_loss 0.2763841372489929\n"
     ]
    }
   ],
   "source": [
    "model = RNN(n_unit)\n",
    "optimizer = optimizers.SGD(lr=0.01)\n",
    "optimizer.setup(model)\n",
    "optimizer.add_hook(chainer.optimizer.GradientClipping(grad_clip))\n",
    "\n",
    "length = train_data.shape[0]\n",
    "jump = length // batchsize\n",
    "batch_idxs = list(range(batchsize))\n",
    "accum_loss = 0\n",
    "epoch = 0\n",
    "loss_data = 0\n",
    "for i in range(jump * n_epoch):\n",
    "    x = chainer.Variable(xp.asarray([[train_data[(jump * j + i) % length]] for j in batch_idxs]))\n",
    "    t = chainer.Variable(xp.asarray([[train_data[(jump * j + i + 1) % length]] for j in batch_idxs]))\n",
    "    loss_i = model(x,t)\n",
    "    accum_loss += loss_i\n",
    "    loss_data += accum_loss.data\n",
    "        \n",
    "    if (i+1) % jump == 0:\n",
    "        epoch += 1\n",
    "        optimizer.lr /= 1.2\n",
    "        print('epoch {}, accum_loss {}'.format(epoch, loss_data / length))\n",
    "        loss_data = 0\n",
    "    \n",
    "    if (i+1) % bprop_len == 0:\n",
    "        model.zerograds()\n",
    "        accum_loss.backward()\n",
    "        accum_loss.unchain_backward()\n",
    "        accum_loss = 0\n",
    "        optimizer.update()"
   ]
  },
  {
   "cell_type": "code",
   "execution_count": 244,
   "metadata": {
    "collapsed": false
   },
   "outputs": [
    {
     "data": {
      "text/plain": [
       "[<matplotlib.lines.Line2D at 0x10e096c18>]"
      ]
     },
     "execution_count": 244,
     "metadata": {},
     "output_type": "execute_result"
    },
    {
     "data": {
      "image/png": "[encoded data removed]",
      "text/plain": [
       "<matplotlib.figure.Figure at 0x10deba7f0>"
      ]
     },
     "metadata": {},
     "output_type": "display_data"
    }
   ],
   "source": [
    "t = chainer.Variable(xp.array([[0]],dtype=np.float32))\n",
    "output = []\n",
    "model.reset_state()\n",
    "for i in range(length):\n",
    "    t = model.predict(t)\n",
    "    output.append(t.data[0])\n",
    "plt.plot(output)"
   ]
  },
  {
   "cell_type": "code",
   "execution_count": null,
   "metadata": {
    "collapsed": true
   },
   "outputs": [],
   "source": []
  },
  {
   "cell_type": "code",
   "execution_count": null,
   "metadata": {
    "collapsed": true
   },
   "outputs": [],
   "source": []
  }
 ],
 "metadata": {
  "kernelspec": {
   "display_name": "Python 3",
   "language": "python",
   "name": "python3"
  },
  "language_info": {
   "codemirror_mode": {
    "name": "ipython",
    "version": 3
   },
   "file_extension": ".py",
   "mimetype": "text/x-python",
   "name": "python",
   "nbconvert_exporter": "python",
   "pygments_lexer": "ipython3",
   "version": "3.5.1"
  }
 },
 "nbformat": 4,
 "nbformat_minor": 0
}
