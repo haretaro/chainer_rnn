{
 "cells": [
  {
   "cell_type": "code",
   "execution_count": 414,
   "metadata": {
    "collapsed": false
   },
   "outputs": [],
   "source": [
    "%matplotlib inline\n",
    "import chainer\n",
    "import chainer.functions as F\n",
    "import chainer.links as L\n",
    "import chainer.cuda\n",
    "from chainer import optimizers\n",
    "from chainer import serializers\n",
    "from chainer import cuda\n",
    "import numpy as np\n",
    "import matplotlib.pyplot as plt"
   ]
  },
  {
   "cell_type": "code",
   "execution_count": 415,
   "metadata": {
    "collapsed": false
   },
   "outputs": [],
   "source": [
    "n_epoch = 200\n",
    "batchsize = 100\n",
    "bprop_len = 10\n",
    "n_units = 30\n",
    "grad_clip = 5\n",
    "use_gpu = False"
   ]
  },
  {
   "cell_type": "code",
   "execution_count": 416,
   "metadata": {
    "collapsed": false
   },
   "outputs": [],
   "source": [
    "xp = cuda.cupy if use_gpu is True else np"
   ]
  },
  {
   "cell_type": "code",
   "execution_count": 417,
   "metadata": {
    "collapsed": false,
    "scrolled": false
   },
   "outputs": [
    {
     "data": {
      "text/plain": [
       "[<matplotlib.lines.Line2D at 0x120deb160>]"
      ]
     },
     "execution_count": 417,
     "metadata": {},
     "output_type": "execute_result"
    },
    {
     "data": {
      "image/png": "[encoded data removed]",
      "text/plain": [
       "<matplotlib.figure.Figure at 0x1208383c8>"
      ]
     },
     "metadata": {},
     "output_type": "display_data"
    }
   ],
   "source": [
    "t = np.arange(0,1000,0.1, dtype=np.float32)\n",
    "\n",
    "train_data = np.sin(t) * np.sin(5 * t)\n",
    "#train_data = np.asarray([1 if (i/5)%2 == 0 else -1 for i in range(10000)], dtype=np.float32)\n",
    "#train_data = np.asarray([1 if i%10 < 5 else -1 for i in range(10000)], dtype=np.float32) #10ユニットもあれば十分\n",
    "#train_data = np.asarray([1 if x > 1 else x for x in 1.5 * np.sin(t)], dtype=np.float32)\n",
    "#train_data = t % 3\n",
    "train_data = np.asarray([x.round(0) for x in 2 * np.sin(t)], dtype=np.float32)\n",
    "plt.plot(train_data[:100])"
   ]
  },
  {
   "cell_type": "code",
   "execution_count": 418,
   "metadata": {
    "collapsed": false
   },
   "outputs": [],
   "source": [
    "class RNN(chainer.Chain):\n",
    "    def __init__(self, n_units):\n",
    "        super(RNN, self).__init__(\n",
    "            l1 = L.Linear(1, n_units),\n",
    "            l2 = L.LSTM(n_units, n_units),\n",
    "            l3 = L.Linear(n_units, 1)\n",
    "        )\n",
    "    \n",
    "    def __call__(self,x,t):\n",
    "        return F.mean_squared_error(self.predict(x),t)\n",
    "        \n",
    "    def reset_state(self):\n",
    "        self.l2.reset_state()\n",
    "    \n",
    "    def predict(self,x):\n",
    "        h1 = F.sigmoid(self.l1(x))\n",
    "        h2 = self.l2(h1)\n",
    "        y = self.l3(h2)\n",
    "        return y"
   ]
  },
  {
   "cell_type": "code",
   "execution_count": 419,
   "metadata": {
    "collapsed": false
   },
   "outputs": [],
   "source": [
    "#ネットワークを試す関数\n",
    "def evaluate(model,num,origin=0):\n",
    "    t = chainer.Variable(xp.array([[origin]],dtype=np.float32))\n",
    "    output = []\n",
    "    evaluator = model.copy()\n",
    "    evaluator.reset_state()\n",
    "    for i in range(num):\n",
    "        t = evaluator.predict(t)\n",
    "        output.append(t.data[0])\n",
    "    return output"
   ]
  },
  {
   "cell_type": "code",
   "execution_count": 420,
   "metadata": {
    "collapsed": false
   },
   "outputs": [
    {
     "name": "stdout",
     "output_type": "stream",
     "text": [
      "epoch 1, error 0.08572039395570755\n",
      "epoch 2, error 0.04712601606249809\n",
      "epoch 3, error 0.026485441794991495\n",
      "epoch 4, error 0.014007901802659034\n",
      "epoch 5, error 0.009273950745165347\n",
      "epoch 6, error 0.007094660893827677\n",
      "epoch 7, error 0.006174504405260086\n",
      "epoch 8, error 0.006704768677055836\n",
      "epoch 9, error 0.005946965384483338\n",
      "epoch 10, error 0.005106856682151556\n",
      "epoch 11, error 0.004774494199454784\n",
      "epoch 12, error 0.004536857645958662\n",
      "epoch 13, error 0.004427584154903888\n",
      "epoch 14, error 0.0043336849369108674\n",
      "epoch 15, error 0.004284616197645664\n",
      "epoch 16, error 0.004384669671207667\n",
      "epoch 17, error 0.004514048161357641\n",
      "epoch 18, error 0.0048415754780173305\n",
      "epoch 19, error 0.005498472613096237\n",
      "epoch 20, error 0.005908983819931745\n",
      "epoch 21, error 0.006492523895204067\n",
      "epoch 22, error 0.006943162477761507\n",
      "epoch 23, error 0.00813604587316513\n",
      "epoch 24, error 0.007832142923772335\n",
      "epoch 25, error 0.00744746763035655\n",
      "epoch 26, error 0.006148585624992847\n",
      "epoch 27, error 0.005633937810361385\n",
      "epoch 28, error 0.005037957205623388\n",
      "epoch 29, error 0.004670043556392193\n",
      "epoch 30, error 0.004730157746374607\n",
      "epoch 31, error 0.004461102813482285\n",
      "epoch 32, error 0.00436279406696558\n",
      "epoch 33, error 0.004133845012634993\n",
      "epoch 34, error 0.003961968256533146\n",
      "epoch 35, error 0.004022831579297781\n",
      "epoch 36, error 0.003979940111562609\n",
      "epoch 37, error 0.004204917631298303\n",
      "epoch 38, error 0.004347806302458048\n",
      "epoch 39, error 0.004696231363713741\n",
      "epoch 40, error 0.005200985507667065\n",
      "epoch 41, error 0.005230296503007412\n",
      "epoch 42, error 0.005996963191777468\n",
      "epoch 43, error 0.005754089917987585\n",
      "epoch 44, error 0.005538236328959465\n",
      "epoch 45, error 0.0059418354645371435\n",
      "epoch 46, error 0.0047007647808641195\n",
      "epoch 47, error 0.004831976199895144\n",
      "epoch 48, error 0.004702035389095545\n",
      "epoch 49, error 0.004049388629570603\n",
      "epoch 50, error 0.0037338812213391064\n",
      "epoch 51, error 0.003659929383173585\n",
      "epoch 52, error 0.0035324794705957176\n",
      "epoch 53, error 0.003528132922574878\n",
      "epoch 54, error 0.0034867983873933554\n",
      "epoch 55, error 0.0036085795413702726\n",
      "epoch 56, error 0.0037128797218203544\n",
      "epoch 57, error 0.003855453917384148\n",
      "epoch 58, error 0.004120609498769045\n",
      "epoch 59, error 0.004200660593807698\n",
      "epoch 60, error 0.004526519659161568\n",
      "epoch 61, error 0.004764999131113291\n",
      "epoch 62, error 0.004536830625683069\n",
      "epoch 63, error 0.004805273400992155\n",
      "epoch 64, error 0.004755980096757412\n",
      "epoch 65, error 0.004121769405901432\n",
      "epoch 66, error 0.004606629422307014\n",
      "epoch 67, error 0.004402883198857307\n",
      "epoch 68, error 0.003925174278765917\n",
      "epoch 69, error 0.004306144836544991\n",
      "epoch 70, error 0.003929527601227164\n",
      "epoch 71, error 0.0037435287542641163\n",
      "epoch 72, error 0.003946133176982403\n",
      "epoch 73, error 0.0035849589515477417\n",
      "epoch 74, error 0.0035606906421482565\n",
      "epoch 75, error 0.0036865412376821042\n",
      "epoch 76, error 0.0034054929725825787\n",
      "epoch 77, error 0.003441412727162242\n",
      "epoch 78, error 0.0035612144634127618\n",
      "epoch 79, error 0.0033810705542564393\n",
      "epoch 80, error 0.0034909952007234095\n",
      "epoch 81, error 0.0036123579651117324\n",
      "epoch 82, error 0.0033955779377371075\n",
      "epoch 83, error 0.00353424768820405\n",
      "epoch 84, error 0.0036703748490661383\n",
      "epoch 85, error 0.003505132184550166\n",
      "epoch 86, error 0.0037671433940529822\n",
      "epoch 87, error 0.0038880030307918787\n",
      "epoch 88, error 0.003620080501958728\n",
      "epoch 89, error 0.0036843714244663714\n",
      "epoch 90, error 0.003641800704970956\n",
      "epoch 91, error 0.003621059361100197\n",
      "epoch 92, error 0.003590542393550277\n",
      "epoch 93, error 0.003622941491007805\n",
      "epoch 94, error 0.003329532105103135\n",
      "epoch 95, error 0.0034268581204116343\n",
      "epoch 96, error 0.003385939407348633\n",
      "epoch 97, error 0.003309180074557662\n",
      "epoch 98, error 0.0035248166598379612\n",
      "epoch 99, error 0.003611781768873334\n",
      "epoch 100, error 0.00412238088324666\n",
      "epoch 101, error 0.004014652821049094\n",
      "epoch 102, error 0.00392425344325602\n",
      "epoch 103, error 0.004324375151097774\n",
      "epoch 104, error 0.0038021518092602492\n",
      "epoch 105, error 0.003945925372466445\n",
      "epoch 106, error 0.0042007134418934585\n",
      "epoch 107, error 0.004196855957433581\n",
      "epoch 108, error 0.003909288227558136\n",
      "epoch 109, error 0.003860591450333595\n",
      "epoch 110, error 0.004174305432289839\n",
      "epoch 111, error 0.0039025324694812297\n",
      "epoch 112, error 0.0038394291147589685\n",
      "epoch 113, error 0.003749529753997922\n",
      "epoch 114, error 0.0035301334854215384\n",
      "epoch 115, error 0.003389370607212186\n",
      "epoch 116, error 0.0033320302184671165\n",
      "epoch 117, error 0.003697551765665412\n",
      "epoch 118, error 0.003306242648884654\n",
      "epoch 119, error 0.0034933001462370155\n",
      "epoch 120, error 0.0034230263859033583\n",
      "epoch 121, error 0.0034239275690168144\n",
      "epoch 122, error 0.0033929247450083496\n",
      "epoch 123, error 0.003421399975940585\n",
      "epoch 124, error 0.003712829688563943\n",
      "epoch 125, error 0.0034045719739049674\n",
      "epoch 126, error 0.0035982922691851853\n",
      "epoch 127, error 0.0040122519265860315\n",
      "epoch 128, error 0.003382799658551812\n",
      "epoch 129, error 0.003868697054684162\n",
      "epoch 130, error 0.003606210809201002\n",
      "epoch 131, error 0.003900863375887275\n",
      "epoch 132, error 0.003428363386169076\n",
      "epoch 133, error 0.0034197889059782026\n",
      "epoch 134, error 0.003528346491232514\n",
      "epoch 135, error 0.003163433114811778\n",
      "epoch 136, error 0.0035208396803587676\n",
      "epoch 137, error 0.003577176634594798\n",
      "epoch 138, error 0.0029742803048342465\n",
      "epoch 139, error 0.003298504577577114\n",
      "epoch 140, error 0.00312318213544786\n",
      "epoch 141, error 0.0032341084599494933\n",
      "epoch 142, error 0.0033640516676008703\n",
      "epoch 143, error 0.003397428707033396\n",
      "epoch 144, error 0.003587359382584691\n",
      "epoch 145, error 0.0030844760209321974\n",
      "epoch 146, error 0.003073261483758688\n",
      "epoch 147, error 0.0029617264561355113\n",
      "epoch 148, error 0.0026683057732880115\n",
      "epoch 149, error 0.002517589618265629\n",
      "epoch 150, error 0.0024697168797254564\n",
      "epoch 151, error 0.002241925223916769\n",
      "epoch 152, error 0.0020821346201002596\n",
      "epoch 153, error 0.0020247991485521197\n",
      "epoch 154, error 0.0019022626673802733\n",
      "epoch 155, error 0.0018548545116558672\n",
      "epoch 156, error 0.001722358382679522\n",
      "epoch 157, error 0.0016741665929555893\n",
      "epoch 158, error 0.001648996146954596\n",
      "epoch 159, error 0.0015846189072355628\n",
      "epoch 160, error 0.001568842545337975\n",
      "epoch 161, error 0.0015235583540052174\n",
      "epoch 162, error 0.001494198853522539\n",
      "epoch 163, error 0.0014925618568435311\n",
      "epoch 164, error 0.0014714270390570163\n",
      "epoch 165, error 0.001449485624022782\n",
      "epoch 166, error 0.0015216090813279153\n",
      "epoch 167, error 0.0014240406114608048\n",
      "epoch 168, error 0.0014070699997246266\n",
      "epoch 169, error 0.0014864871891215443\n",
      "epoch 170, error 0.0018250810287892818\n",
      "epoch 171, error 0.001986283919587731\n",
      "epoch 172, error 0.0022632434653118254\n",
      "epoch 173, error 0.0023549746641889214\n",
      "epoch 174, error 0.001961309003457427\n",
      "epoch 175, error 0.0016970898523926735\n",
      "epoch 176, error 0.0016314464965835214\n",
      "epoch 177, error 0.0016922457901760936\n",
      "epoch 178, error 0.001702772106602788\n",
      "epoch 179, error 0.001866773607581854\n",
      "epoch 180, error 0.0019709851332008837\n",
      "epoch 181, error 0.002303217109851539\n",
      "epoch 182, error 0.0023567729337140918\n",
      "epoch 183, error 0.0024868072113022207\n",
      "epoch 184, error 0.0022498704375699162\n",
      "epoch 185, error 0.0019653017474338414\n",
      "epoch 186, error 0.0016211107540875674\n",
      "epoch 187, error 0.0014172631733119488\n",
      "epoch 188, error 0.0015539359144866466\n",
      "epoch 189, error 0.001489499946590513\n",
      "epoch 190, error 0.0014096224425360561\n",
      "epoch 191, error 0.0014265978931449353\n",
      "epoch 192, error 0.0014032966213300825\n",
      "epoch 193, error 0.001467716266401112\n",
      "epoch 194, error 0.0015702816220931708\n",
      "epoch 195, error 0.001692332637310028\n",
      "epoch 196, error 0.0019280633399263024\n",
      "epoch 197, error 0.0021883805463090537\n",
      "epoch 198, error 0.0026547361459583045\n",
      "epoch 199, error 0.003195483910292387\n",
      "epoch 200, error 0.0037161087434738876\n"
     ]
    }
   ],
   "source": [
    "model = RNN(n_units)\n",
    "if use_gpu is True:\n",
    "    model.to_gpu()\n",
    "#optimizer = optimizers.SGD(lr=1.)\n",
    "optimizer = optimizers.Adam()\n",
    "optimizer.setup(model)\n",
    "optimizer.add_hook(chainer.optimizer.GradientClipping(grad_clip))\n",
    "loss = []\n",
    "length = train_data.shape[0]\n",
    "jump = length // batchsize\n",
    "batch_idxs = list(range(batchsize))\n",
    "accum_loss = 0\n",
    "epoch = 0\n",
    "loss_data = 0\n",
    "for i in range(jump * n_epoch):\n",
    "    x = chainer.Variable(xp.asarray([[train_data[(jump * j + i) % length]] for j in batch_idxs]))\n",
    "    t = chainer.Variable(xp.asarray([[train_data[(jump * j + i + 1) % length]] for j in batch_idxs]))\n",
    "    loss_i = model(x,t)\n",
    "    accum_loss += loss_i\n",
    "    loss_data += accum_loss.data\n",
    "        \n",
    "    if (i+1) % jump == 0:\n",
    "        epoch += 1\n",
    "        #if epoch > 5:\n",
    "        #    optimizer.lr /= 1.3\n",
    "        print('epoch {}, error {}'.format(epoch, loss_data / length))\n",
    "        loss.append(loss_data / length)\n",
    "        loss_data = 0\n",
    "        \n",
    "    \n",
    "    if (i+1) % bprop_len == 0:\n",
    "        model.zerograds()\n",
    "        accum_loss.backward()\n",
    "        accum_loss.unchain_backward()\n",
    "        accum_loss = 0\n",
    "        optimizer.update()\n"
   ]
  },
  {
   "cell_type": "code",
   "execution_count": 421,
   "metadata": {
    "collapsed": false
   },
   "outputs": [
    {
     "data": {
      "text/plain": [
       "<matplotlib.text.Text at 0x1212c6048>"
      ]
     },
     "execution_count": 421,
     "metadata": {},
     "output_type": "execute_result"
    },
    {
     "data": {
      "image/png": "[encoded data removed]",
      "text/plain": [
       "<matplotlib.figure.Figure at 0x120e65b38>"
      ]
     },
     "metadata": {},
     "output_type": "display_data"
    }
   ],
   "source": [
    "plt.plot(loss)\n",
    "plt.title('mean square error')"
   ]
  },
  {
   "cell_type": "code",
   "execution_count": 426,
   "metadata": {
    "collapsed": false
   },
   "outputs": [
    {
     "data": {
      "text/plain": [
       "[<matplotlib.lines.Line2D at 0x1213fe208>]"
      ]
     },
     "execution_count": 426,
     "metadata": {},
     "output_type": "execute_result"
    },
    {
     "data": {
      "image/png": "[encoded data removed]",
      "text/plain": [
       "<matplotlib.figure.Figure at 0x1213e81d0>"
      ]
     },
     "metadata": {},
     "output_type": "display_data"
    }
   ],
   "source": [
    "output = evaluate(model,400,origin=0)\n",
    "plt.plot(output[:100])"
   ]
  },
  {
   "cell_type": "code",
   "execution_count": 427,
   "metadata": {
    "collapsed": false
   },
   "outputs": [
    {
     "data": {
      "text/plain": [
       "[<matplotlib.lines.Line2D at 0x12175c630>]"
      ]
     },
     "execution_count": 427,
     "metadata": {},
     "output_type": "execute_result"
    },
    {
     "data": {
      "image/png": "[encoded data removed]",
      "text/plain": [
       "<matplotlib.figure.Figure at 0x120c7deb8>"
      ]
     },
     "metadata": {},
     "output_type": "display_data"
    }
   ],
   "source": [
    "plt.plot(output[300:400])"
   ]
  },
  {
   "cell_type": "code",
   "execution_count": null,
   "metadata": {
    "collapsed": true
   },
   "outputs": [],
   "source": []
  },
  {
   "cell_type": "code",
   "execution_count": null,
   "metadata": {
    "collapsed": true
   },
   "outputs": [],
   "source": []
  },
  {
   "cell_type": "code",
   "execution_count": null,
   "metadata": {
    "collapsed": true
   },
   "outputs": [],
   "source": []
  }
 ],
 "metadata": {
  "kernelspec": {
   "display_name": "Python 3",
   "language": "python",
   "name": "python3"
  },
  "language_info": {
   "codemirror_mode": {
    "name": "ipython",
    "version": 3
   },
   "file_extension": ".py",
   "mimetype": "text/x-python",
   "name": "python",
   "nbconvert_exporter": "python",
   "pygments_lexer": "ipython3",
   "version": "3.5.1"
  }
 },
 "nbformat": 4,
 "nbformat_minor": 0
}
